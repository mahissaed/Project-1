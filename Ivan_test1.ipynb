{
 "cells": [
  {
   "cell_type": "code",
   "execution_count": 25,
   "metadata": {},
   "outputs": [
    {
     "name": "stdout",
     "output_type": "stream",
     "text": [
      "{'status': 'REQUEST_SUCCEEDED', 'responseTime': 231, 'message': ['No Data Available for Series LNU04034202Q Year: 2023', 'Invalid Series for Series LNU04034205'], 'Results': {'series': [{'seriesID': 'LNU04032231', 'data': [{'year': '2023', 'period': 'M01', 'periodName': 'January', 'latest': 'true', 'value': '6.9', 'footnotes': [{}]}, {'year': '2022', 'period': 'M12', 'periodName': 'December', 'value': '4.4', 'footnotes': [{}]}, {'year': '2022', 'period': 'M11', 'periodName': 'November', 'value': '3.9', 'footnotes': [{}]}, {'year': '2022', 'period': 'M10', 'periodName': 'October', 'value': '4.1', 'footnotes': [{}]}, {'year': '2022', 'period': 'M09', 'periodName': 'September', 'value': '3.4', 'footnotes': [{}]}, {'year': '2022', 'period': 'M08', 'periodName': 'August', 'value': '3.9', 'footnotes': [{}]}, {'year': '2022', 'period': 'M07', 'periodName': 'July', 'value': '3.5', 'footnotes': [{}]}, {'year': '2022', 'period': 'M06', 'periodName': 'June', 'value': '3.7', 'footnotes': [{}]}, {'year': '2022', 'period': 'M05', 'periodName': 'May', 'value': '3.8', 'footnotes': [{}]}, {'year': '2022', 'period': 'M04', 'periodName': 'April', 'value': '4.6', 'footnotes': [{}]}, {'year': '2022', 'period': 'M03', 'periodName': 'March', 'value': '6.0', 'footnotes': [{}]}, {'year': '2022', 'period': 'M02', 'periodName': 'February', 'value': '6.7', 'footnotes': [{}]}, {'year': '2022', 'period': 'M01', 'periodName': 'January', 'value': '7.1', 'footnotes': [{}]}]}, {'seriesID': 'LNU04034202Q', 'data': [{'year': '2022', 'period': 'Q04', 'periodName': '4th Quarter', 'latest': 'true', 'value': '1.7', 'footnotes': [{}]}, {'year': '2022', 'period': 'Q03', 'periodName': '3rd Quarter', 'value': '1.2', 'footnotes': [{}]}, {'year': '2022', 'period': 'Q02', 'periodName': '2nd Quarter', 'value': '1.5', 'footnotes': [{}]}, {'year': '2022', 'period': 'Q01', 'periodName': '1st Quarter', 'value': '2.1', 'footnotes': [{}]}]}, {'seriesID': ' LNU04034205', 'data': []}]}}\n"
     ]
    }
   ],
   "source": [
    "import matplotlib.pyplot as plt\n",
    "import pandas as pd\n",
    "import numpy as np\n",
    "import json\n",
    "import requests\n",
    "headers = {'Content-Type': 'application/json'}\n",
    "data = {\"seriesid\": ['LNU04032231','LNU04034202Q',' LNU04034205'],\n",
    "        \"startyear\": \"2022\",\n",
    "        \"endyear\": \"2023\",\n",
    "        \"registrationKey\": \"5133410b82ac4503b6314e1b69f6fc56\"}\n",
    "response = requests.post('https://api.bls.gov/publicAPI/v2/timeseries/data/',\n",
    "                         headers=headers, json=data)\n",
    "if response.status_code == 200:\n",
    "    unemployment_data = response.json()\n",
    "    print(unemployment_data)\n",
    "else:\n",
    "    print(\"Error retrieving data\")\n",
    "\n",
    "# for key, value in unemployment_data.items():\n",
    "#          print(key, \":\", value)\n",
    "\n",
    "#print(unemployment_data[\"Results\"]['series'])\n",
    "#hola=pd.DataFrame.from_dict(unemployment_data)\n",
    "\n",
    "#hola.to_csv(\"data.csv\",index=False)\n",
    "#print(json.dumps(unemployment_data, indent=4, sort_keys=True))\n",
    "#LNS14000000\n",
    "#hola\n",
    "#unemployment_data"
   ]
  },
  {
   "cell_type": "code",
   "execution_count": 27,
   "metadata": {},
   "outputs": [
    {
     "data": {
      "text/html": [
       "<div>\n",
       "<style scoped>\n",
       "    .dataframe tbody tr th:only-of-type {\n",
       "        vertical-align: middle;\n",
       "    }\n",
       "\n",
       "    .dataframe tbody tr th {\n",
       "        vertical-align: top;\n",
       "    }\n",
       "\n",
       "    .dataframe thead th {\n",
       "        text-align: right;\n",
       "    }\n",
       "</style>\n",
       "<table border=\"1\" class=\"dataframe\">\n",
       "  <thead>\n",
       "    <tr style=\"text-align: right;\">\n",
       "      <th></th>\n",
       "      <th>seriesID</th>\n",
       "      <th>data</th>\n",
       "    </tr>\n",
       "  </thead>\n",
       "  <tbody>\n",
       "    <tr>\n",
       "      <th>0</th>\n",
       "      <td>LNU04032231</td>\n",
       "      <td>[{'year': '2023', 'period': 'M01', 'periodName...</td>\n",
       "    </tr>\n",
       "    <tr>\n",
       "      <th>1</th>\n",
       "      <td>LNU04034202Q</td>\n",
       "      <td>[{'year': '2022', 'period': 'Q04', 'periodName...</td>\n",
       "    </tr>\n",
       "    <tr>\n",
       "      <th>2</th>\n",
       "      <td>LNU04034205</td>\n",
       "      <td>[]</td>\n",
       "    </tr>\n",
       "  </tbody>\n",
       "</table>\n",
       "</div>"
      ],
      "text/plain": [
       "       seriesID                                               data\n",
       "0   LNU04032231  [{'year': '2023', 'period': 'M01', 'periodName...\n",
       "1  LNU04034202Q  [{'year': '2022', 'period': 'Q04', 'periodName...\n",
       "2   LNU04034205                                                 []"
      ]
     },
     "execution_count": 27,
     "metadata": {},
     "output_type": "execute_result"
    }
   ],
   "source": [
    "#unemployment_data_df=pd.DataFrame(unemployment_data[\"Results\"])\n",
    "#unemployment_data_df2=pd.DataFrame(unemployment_data[\"Results\"][\"series\"][0][\"data\"])\n",
    "unemployment_data_df=pd.DataFrame(unemployment_data[\"Results\"][\"series\"])\n",
    "unemployment_data_df\n",
    "# unemployment_data_df2\n",
    "# hola=pd.merge(unemployment_data_df2,unemployment_data_df,left_index=True, right_index=True)\n",
    "# hola.tail()"
   ]
  }
 ],
 "metadata": {
  "kernelspec": {
   "display_name": "base",
   "language": "python",
   "name": "python3"
  },
  "language_info": {
   "codemirror_mode": {
    "name": "ipython",
    "version": 3
   },
   "file_extension": ".py",
   "mimetype": "text/x-python",
   "name": "python",
   "nbconvert_exporter": "python",
   "pygments_lexer": "ipython3",
   "version": "3.9.13 (main, Aug 25 2022, 23:51:50) [MSC v.1916 64 bit (AMD64)]"
  },
  "orig_nbformat": 4,
  "vscode": {
   "interpreter": {
    "hash": "a077222d77dfe082b8f1dd562ad70e458ac2ab76993a0b248ab0476e32e9e8dd"
   }
  }
 },
 "nbformat": 4,
 "nbformat_minor": 2
}
